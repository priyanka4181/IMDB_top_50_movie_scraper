{
 "cells": [
  {
   "cell_type": "code",
   "execution_count": 2,
   "id": "89d54838-1aae-4f52-85f6-562184b8ad97",
   "metadata": {},
   "outputs": [],
   "source": [
    "def imdb():\n",
    "    import selenium.webdriver as webdriver\n",
    "    import pandas as pd\n",
    "    from selenium.webdriver.common.by import By\n",
    "    from time import sleep\n",
    "    from selenium import webdriver\n",
    "    from webdriver_manager.chrome import ChromeDriverManager\n",
    "\n",
    "\n",
    "    driver=webdriver.Chrome()\n",
    "\n",
    "    driver.get('https://www.imdb.com/chart/top/')\n",
    "    driver.find_elements(By.XPATH,'//h3[@class=\"ipc-title__text ipc-title__text--reduced\"]')\n",
    "    driver.find_elements(By.XPATH,'//span[@class=\"sc-86fea7d1-8 JTbpG cli-title-metadata-item\"]')\n",
    "    driver.find_elements(By.XPATH,'//span[@class=\"sc-86fea7d1-8 JTbpG cli-title-metadata-item\"]')\n",
    "    driver.find_elements(By.XPATH,'//span[@class=\"ipc-rating-star--rating\"]')\n",
    "    sleep(5)\n",
    "    titles=driver.find_elements(By.XPATH,'//h3[@class=\"ipc-title__text ipc-title__text--reduced\"]')\n",
    "    years=driver.find_elements(By.XPATH,'//span[@class=\"sc-86fea7d1-8 JTbpG cli-title-metadata-item\"]')\n",
    "    durations=driver.find_elements(By.XPATH,'//span[@class=\"sc-86fea7d1-8 JTbpG cli-title-metadata-item\"]')\n",
    "    ratings=driver.find_elements(By.XPATH,'//span[@class=\"ipc-rating-star--rating\"]')\n",
    "\n",
    "    title=[]\n",
    "    year=[]\n",
    "    duration=[]\n",
    "    rating=[]\n",
    "    for a,b,c,d in zip (titles,years,durations,ratings):\n",
    "        title.append(a.text)\n",
    "        year.append(b.text)\n",
    "        duration.append(c.text)\n",
    "        rating.append(d.text)\n",
    "    \n",
    "\n",
    "    years_only= year[0::3]\n",
    "    durations_only= duration[1::3]\n",
    "   \n",
    "    #Remove first item\n",
    "    title_only = title[1:]\n",
    "\n",
    "    title_top50=title_only[0:50]\n",
    "    year_top50=years_only[0:50]\n",
    "    duration_top50=durations_only[0:50]\n",
    "    rating_top50=rating[0:50]\n",
    "    \n",
    "    data=pd.DataFrame({'titles':title_top50,'years':year_top50,'durations':duration_top50,'ratings':rating_top50})\n",
    "    data.to_excel('C:/Users/QUICK/imdb-top_50_movies.xlsx',index=False)\n",
    "    print(\"scraping completed\")"
   ]
  },
  {
   "cell_type": "code",
   "execution_count": 3,
   "id": "a1744cdf-bc0d-46b4-b85e-3ec62b0f1aa4",
   "metadata": {},
   "outputs": [
    {
     "name": "stdout",
     "output_type": "stream",
     "text": [
      "scraping completed\n"
     ]
    }
   ],
   "source": [
    "imdb()"
   ]
  },
  {
   "cell_type": "code",
   "execution_count": null,
   "id": "89468025-6b31-44aa-9b42-080994eb5786",
   "metadata": {},
   "outputs": [],
   "source": []
  }
 ],
 "metadata": {
  "kernelspec": {
   "display_name": "Python 3 (ipykernel)",
   "language": "python",
   "name": "python3"
  },
  "language_info": {
   "codemirror_mode": {
    "name": "ipython",
    "version": 3
   },
   "file_extension": ".py",
   "mimetype": "text/x-python",
   "name": "python",
   "nbconvert_exporter": "python",
   "pygments_lexer": "ipython3",
   "version": "3.12.4"
  }
 },
 "nbformat": 4,
 "nbformat_minor": 5
}
